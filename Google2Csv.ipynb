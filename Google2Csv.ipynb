{
  "nbformat": 4,
  "nbformat_minor": 0,
  "metadata": {
    "colab": {
      "name": "Google2Csv.ipynb",
      "provenance": [],
      "toc_visible": true,
      "authorship_tag": "ABX9TyN/EIlGRKp/NPVnoqRZtLV/",
      "include_colab_link": true
    },
    "kernelspec": {
      "name": "python3",
      "display_name": "Python 3"
    }
  },
  "cells": [
    {
      "cell_type": "markdown",
      "metadata": {
        "id": "view-in-github",
        "colab_type": "text"
      },
      "source": [
        "<a href=\"https://colab.research.google.com/github/steghoja/Google2Csv/blob/master/Google2Csv.ipynb\" target=\"_parent\"><img src=\"https://colab.research.google.com/assets/colab-badge.svg\" alt=\"Open In Colab\"/></a>"
      ]
    },
    {
      "cell_type": "markdown",
      "metadata": {
        "id": "3w-fyktSoKxu",
        "colab_type": "text"
      },
      "source": [
        "##GoogleScraper"
      ]
    },
    {
      "cell_type": "code",
      "metadata": {
        "id": "zCQtYO-Po_kf",
        "colab_type": "code",
        "colab": {
          "base_uri": "https://localhost:8080/",
          "height": 34
        },
        "outputId": "2d2221b1-b425-4723-adbc-7aa415ecf254"
      },
      "source": [
        "from bs4 import BeautifulSoup\n",
        "import requests\n",
        "import pandas as pd"
      ],
      "execution_count": 0,
      "outputs": []
    },
    {
      "cell_type": "code",
      "metadata": {
        "id": "6JZjJa-joXEh",
        "colab_type": "code",
        "colab": {}
      },
      "source": [
        "def simpleGoogleSearch(query, start):\n",
        "  results = []\n",
        "\n",
        "  query = query.replace(' ', '+')\n",
        "  URL = f\"https://google.com/search?q={query}&start={start}\"\n",
        "\n",
        "  # desktop user-agent\n",
        "  USER_AGENT = \"Mozilla/5.0 (Macintosh; Intel Mac OS X 10.14; rv:65.0) Gecko/20100101 Firefox/65.0\"\n",
        "  \n",
        "  headers = {\"user-agent\" : USER_AGENT}\n",
        "  resp = requests.get(URL, headers=headers)\n",
        "\n",
        "  if resp.status_code == 200:\n",
        "    soup = BeautifulSoup(resp.content, \"html.parser\")\n",
        "\n",
        "    for g in soup.find_all('div', class_='rc'):\n",
        "      anchors = g.find_all('a')\n",
        "\n",
        "      if anchors:\n",
        "        link  = anchors[0]['href']\n",
        "        title = g.find('h3').text\n",
        "        description = g.find('span', class_='aCOpRe')\n",
        "        date = description.find('span', class_='f')\n",
        "        if date:\n",
        "          date = date.text[:-2]\n",
        "        item  = {\"title\": title, \"date\": date, \"description\": description.text, \"link\": link}\n",
        "        results.append(item)\n",
        "\n",
        "  return results"
      ],
      "execution_count": 0,
      "outputs": []
    },
    {
      "cell_type": "code",
      "metadata": {
        "id": "kBCwCEcGob2M",
        "colab_type": "code",
        "colab": {}
      },
      "source": [
        "def googleToPandas(googleQuery):\n",
        "  resultsCounter  = 0\n",
        "  resultsList     = []\n",
        "\n",
        "  while True:\n",
        "    pageResults = simpleGoogleSearch(googleQuery, resultsCounter)\n",
        "    \n",
        "    if not pageResults: break\n",
        "    else: \n",
        "      resultsList.extend(pageResults)\n",
        "      resultsCounter = resultsCounter + 10\n",
        "\n",
        "  return pd.DataFrame(resultsList)"
      ],
      "execution_count": 0,
      "outputs": []
    },
    {
      "cell_type": "code",
      "metadata": {
        "id": "SoUutC4DojV7",
        "colab_type": "code",
        "colab": {}
      },
      "source": [
        "googleSearchQuery = \"\" #@param {type:\"string\"}"
      ],
      "execution_count": 0,
      "outputs": []
    },
    {
      "cell_type": "code",
      "metadata": {
        "id": "r44AZDaBpjGO",
        "colab_type": "code",
        "colab": {
          "base_uri": "https://localhost:8080/",
          "height": 419
        },
        "outputId": "d7a82dce-8463-45fa-c088-8cac5dba3fa5"
      },
      "source": [
        "results = googleToPandas(googleSearchQuery)\n",
        "results"
      ],
      "execution_count": 0,
      "outputs": []
    },
    {
      "cell_type": "code",
      "metadata": {
        "id": "y-wbjJuYqnOT",
        "colab_type": "code",
        "colab": {}
      },
      "source": [
        "results.to_csv('GoogleResults.csv', index=False)\n",
        "results.to_excel('GoogleResults.xlsx', index=False)\n",
        "results.to_json('GoogleResults.jsonl', orient='records', lines=True)"
      ],
      "execution_count": 0,
      "outputs": []
    }
  ]
}
