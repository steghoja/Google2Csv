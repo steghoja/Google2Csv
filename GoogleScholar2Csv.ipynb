{
 "cells": [
  {
   "cell_type": "markdown",
   "metadata": {
    "colab_type": "text",
    "id": "view-in-github"
   },
   "source": [
    "<a href=\"https://colab.research.google.com/github/steghoja/Google2Csv/blob/master/Google2Csv.ipynb\" target=\"_parent\"><img src=\"https://colab.research.google.com/assets/colab-badge.svg\" alt=\"Open In Colab\"/></a>"
   ]
  },
  {
   "cell_type": "markdown",
   "metadata": {
    "colab_type": "text",
    "id": "3w-fyktSoKxu"
   },
   "source": [
    "##GoogleScraper"
   ]
  },
  {
   "cell_type": "code",
   "execution_count": 1,
   "metadata": {
    "colab": {
     "base_uri": "https://localhost:8080/",
     "height": 34
    },
    "colab_type": "code",
    "id": "zCQtYO-Po_kf",
    "outputId": "2d2221b1-b425-4723-adbc-7aa415ecf254"
   },
   "outputs": [],
   "source": [
    "from bs4 import BeautifulSoup\n",
    "import requests\n",
    "import pandas as pd"
   ]
  },
  {
   "cell_type": "code",
   "execution_count": 2,
   "metadata": {
    "colab": {},
    "colab_type": "code",
    "id": "6JZjJa-joXEh"
   },
   "outputs": [],
   "source": [
    "def simpleGoogleSearch(query, start):\n",
    "  results = []\n",
    "\n",
    "  query = query.replace(' ', '+')\n",
    "  URL = f\"https://scholar.google.com/scholar?q={query}&start={start}&hl=en\"\n",
    "\n",
    "  # desktop user-agent\n",
    "  USER_AGENT = \"Mozilla/5.0 (Macintosh; Intel Mac OS X 10.16; rv:84.0) Gecko/20100101 Firefox/84.0\"\n",
    "  ACCEPT = \"text/html,application/xhtml+xml,application/xml;q=0.9,image/webp,*/*;q=0.8\"\n",
    "  ACCEPT_ENCODING = \"gzip, deflate, br\"\n",
    "  \n",
    "  headers = {\"user-agent\" : USER_AGENT,\n",
    "             \"accept\" : ACCEPT,\n",
    "             \"accept-encoding\" : ACCEPT_ENCODING\n",
    "            }\n",
    "  resp = requests.get(URL, headers=headers)\n",
    "\n",
    "  if resp.status_code == 200:\n",
    "    soup = BeautifulSoup(resp.content, \"html.parser\")\n",
    "\n",
    "    for g in soup.find_all('div', class_='gs_ri'):\n",
    "      anchors = g.find_all('a')\n",
    "\n",
    "      if anchors:\n",
    "        link  = anchors[0]['href']\n",
    "        title = g.find('h3').text\n",
    "        description = g.find('div', class_='gs_rs')\n",
    "        authors = g.find('div', class_='gs_a')\n",
    "        item  = {\"title\": title, \"authors\": authors, \"description\": description, \"link\": link}\n",
    "        results.append(item)\n",
    "\n",
    "  return results"
   ]
  },
  {
   "cell_type": "code",
   "execution_count": 3,
   "metadata": {
    "colab": {},
    "colab_type": "code",
    "id": "kBCwCEcGob2M"
   },
   "outputs": [],
   "source": [
    "def googleToPandas(googleQuery):\n",
    "  resultsCounter  = 0\n",
    "  resultsList     = []\n",
    "\n",
    "  while True:\n",
    "    pageResults = simpleGoogleSearch(googleQuery, resultsCounter)\n",
    "    \n",
    "    if not pageResults: break\n",
    "    else: \n",
    "      resultsList.extend(pageResults)\n",
    "      resultsCounter = resultsCounter + 10\n",
    "\n",
    "  return pd.DataFrame(resultsList)"
   ]
  },
  {
   "cell_type": "code",
   "execution_count": 4,
   "metadata": {
    "colab": {},
    "colab_type": "code",
    "id": "SoUutC4DojV7"
   },
   "outputs": [],
   "source": [
    "googleSearchQuery = \"traceability information model\" #@param {type:\"string\"}"
   ]
  },
  {
   "cell_type": "code",
   "execution_count": 5,
   "metadata": {
    "colab": {
     "base_uri": "https://localhost:8080/",
     "height": 419
    },
    "colab_type": "code",
    "id": "r44AZDaBpjGO",
    "outputId": "d7a82dce-8463-45fa-c088-8cac5dba3fa5"
   },
   "outputs": [
    {
     "data": {
      "text/html": [
       "<div>\n",
       "<style scoped>\n",
       "    .dataframe tbody tr th:only-of-type {\n",
       "        vertical-align: middle;\n",
       "    }\n",
       "\n",
       "    .dataframe tbody tr th {\n",
       "        vertical-align: top;\n",
       "    }\n",
       "\n",
       "    .dataframe thead th {\n",
       "        text-align: right;\n",
       "    }\n",
       "</style>\n",
       "<table border=\"1\" class=\"dataframe\">\n",
       "  <thead>\n",
       "    <tr style=\"text-align: right;\">\n",
       "      <th></th>\n",
       "      <th>title</th>\n",
       "      <th>authors</th>\n",
       "      <th>description</th>\n",
       "      <th>link</th>\n",
       "    </tr>\n",
       "  </thead>\n",
       "  <tbody>\n",
       "    <tr>\n",
       "      <th>0</th>\n",
       "      <td>Getting back to basics: Promoting the use of a...</td>\n",
       "      <td>[[P Mader], , O Gotel, I Philippow - … ICSE Wo...</td>\n",
       "      <td>[It is widely assumed that following a process...</td>\n",
       "      <td>https://ieeexplore.ieee.org/abstract/document/...</td>\n",
       "    </tr>\n",
       "    <tr>\n",
       "      <th>1</th>\n",
       "      <td>A traceability information model for CNC manuf...</td>\n",
       "      <td>[JG Campos, M Hardwick - Computer-Aided Design...</td>\n",
       "      <td>[This paper proposes an , [information model ]...</td>\n",
       "      <td>https://www.sciencedirect.com/science/article/...</td>\n",
       "    </tr>\n",
       "    <tr>\n",
       "      <th>2</th>\n",
       "      <td>Model traceability</td>\n",
       "      <td>[N Aizenbud-Reshef, BT Nolan, , [J Rubin], … -...</td>\n",
       "      <td>[… , [Model], -driven development provides new...</td>\n",
       "      <td>https://ieeexplore.ieee.org/abstract/document/...</td>\n",
       "    </tr>\n",
       "    <tr>\n",
       "      <th>3</th>\n",
       "      <td>Managing traceability information in manufacture</td>\n",
       "      <td>[MH Jansen-Vullers, CA van Dorp… - … journal o...</td>\n",
       "      <td>[… The paper applies gozinto graph , [modellin...</td>\n",
       "      <td>https://www.sciencedirect.com/science/article/...</td>\n",
       "    </tr>\n",
       "    <tr>\n",
       "      <th>4</th>\n",
       "      <td>Traceability fundamentals</td>\n",
       "      <td>[O Gotel, , [J Cleland-Huang], , , [JH Hayes],...</td>\n",
       "      <td>[… 5. Reference models and classification sche...</td>\n",
       "      <td>https://link.springer.com/chapter/10.1007/978-...</td>\n",
       "    </tr>\n",
       "    <tr>\n",
       "      <th>...</th>\n",
       "      <td>...</td>\n",
       "      <td>...</td>\n",
       "      <td>...</td>\n",
       "      <td>...</td>\n",
       "    </tr>\n",
       "    <tr>\n",
       "      <th>295</th>\n",
       "      <td>Using rules for traceability creation</td>\n",
       "      <td>[A Zisman - Software and Systems , [Traceabili...</td>\n",
       "      <td>[… 2.1 , [Traceability],  , [Information],  , ...</td>\n",
       "      <td>https://link.springer.com/chapter/10.1007/978-...</td>\n",
       "    </tr>\n",
       "    <tr>\n",
       "      <th>296</th>\n",
       "      <td>Food Track &amp; Trace ontology for helping the fo...</td>\n",
       "      <td>[T Pizzuti, , [G Mirabelli], , , [MA Sanz-Bobi...</td>\n",
       "      <td>[… New research activities are currently inves...</td>\n",
       "      <td>https://www.sciencedirect.com/science/article/...</td>\n",
       "    </tr>\n",
       "    <tr>\n",
       "      <th>297</th>\n",
       "      <td>Requirements traceability for object oriented ...</td>\n",
       "      <td>[[N Ali], , , [YG Gueheneuc], , , [G Antoniol]...</td>\n",
       "      <td>[… The authors highlighted the typical decisio...</td>\n",
       "      <td>https://ieeexplore.ieee.org/abstract/document/...</td>\n",
       "    </tr>\n",
       "    <tr>\n",
       "      <th>298</th>\n",
       "      <td>Framework for Design of Traceability System on...</td>\n",
       "      <td>[[PB Purwandoko], , KB Seminar - IOP Conferenc...</td>\n",
       "      <td>[… 5. , [Information],  capture , [model],  Th...</td>\n",
       "      <td>https://iopscience.iop.org/article/10.1088/175...</td>\n",
       "    </tr>\n",
       "    <tr>\n",
       "      <th>299</th>\n",
       "      <td>IR in software traceability: From a bird's eye...</td>\n",
       "      <td>[[M Borg], , , [P Runeson],  - 2013 ACM/IEEE I...</td>\n",
       "      <td>[… One state-of-practice way to structure soft...</td>\n",
       "      <td>https://ieeexplore.ieee.org/abstract/document/...</td>\n",
       "    </tr>\n",
       "  </tbody>\n",
       "</table>\n",
       "<p>300 rows × 4 columns</p>\n",
       "</div>"
      ],
      "text/plain": [
       "                                                 title  \\\n",
       "0    Getting back to basics: Promoting the use of a...   \n",
       "1    A traceability information model for CNC manuf...   \n",
       "2                                   Model traceability   \n",
       "3     Managing traceability information in manufacture   \n",
       "4                            Traceability fundamentals   \n",
       "..                                                 ...   \n",
       "295              Using rules for traceability creation   \n",
       "296  Food Track & Trace ontology for helping the fo...   \n",
       "297  Requirements traceability for object oriented ...   \n",
       "298  Framework for Design of Traceability System on...   \n",
       "299  IR in software traceability: From a bird's eye...   \n",
       "\n",
       "                                               authors  \\\n",
       "0    [[P Mader], , O Gotel, I Philippow - … ICSE Wo...   \n",
       "1    [JG Campos, M Hardwick - Computer-Aided Design...   \n",
       "2    [N Aizenbud-Reshef, BT Nolan, , [J Rubin], … -...   \n",
       "3    [MH Jansen-Vullers, CA van Dorp… - … journal o...   \n",
       "4    [O Gotel, , [J Cleland-Huang], , , [JH Hayes],...   \n",
       "..                                                 ...   \n",
       "295  [A Zisman - Software and Systems , [Traceabili...   \n",
       "296  [T Pizzuti, , [G Mirabelli], , , [MA Sanz-Bobi...   \n",
       "297  [[N Ali], , , [YG Gueheneuc], , , [G Antoniol]...   \n",
       "298  [[PB Purwandoko], , KB Seminar - IOP Conferenc...   \n",
       "299  [[M Borg], , , [P Runeson],  - 2013 ACM/IEEE I...   \n",
       "\n",
       "                                           description  \\\n",
       "0    [It is widely assumed that following a process...   \n",
       "1    [This paper proposes an , [information model ]...   \n",
       "2    [… , [Model], -driven development provides new...   \n",
       "3    [… The paper applies gozinto graph , [modellin...   \n",
       "4    [… 5. Reference models and classification sche...   \n",
       "..                                                 ...   \n",
       "295  [… 2.1 , [Traceability],  , [Information],  , ...   \n",
       "296  [… New research activities are currently inves...   \n",
       "297  [… The authors highlighted the typical decisio...   \n",
       "298  [… 5. , [Information],  capture , [model],  Th...   \n",
       "299  [… One state-of-practice way to structure soft...   \n",
       "\n",
       "                                                  link  \n",
       "0    https://ieeexplore.ieee.org/abstract/document/...  \n",
       "1    https://www.sciencedirect.com/science/article/...  \n",
       "2    https://ieeexplore.ieee.org/abstract/document/...  \n",
       "3    https://www.sciencedirect.com/science/article/...  \n",
       "4    https://link.springer.com/chapter/10.1007/978-...  \n",
       "..                                                 ...  \n",
       "295  https://link.springer.com/chapter/10.1007/978-...  \n",
       "296  https://www.sciencedirect.com/science/article/...  \n",
       "297  https://ieeexplore.ieee.org/abstract/document/...  \n",
       "298  https://iopscience.iop.org/article/10.1088/175...  \n",
       "299  https://ieeexplore.ieee.org/abstract/document/...  \n",
       "\n",
       "[300 rows x 4 columns]"
      ]
     },
     "execution_count": 5,
     "metadata": {},
     "output_type": "execute_result"
    }
   ],
   "source": [
    "results = googleToPandas(googleSearchQuery)\n",
    "results"
   ]
  },
  {
   "cell_type": "code",
   "execution_count": 6,
   "metadata": {
    "colab": {},
    "colab_type": "code",
    "id": "y-wbjJuYqnOT"
   },
   "outputs": [],
   "source": [
    "results.to_csv('GoogleResults.csv', index=False)\n",
    "#results.to_excel('GoogleResults.xlsx', index=False)\n",
    "#results.to_json('GoogleResults.jsonl', orient='records', lines=True)"
   ]
  }
 ],
 "metadata": {
  "colab": {
   "authorship_tag": "ABX9TyN/EIlGRKp/NPVnoqRZtLV/",
   "include_colab_link": true,
   "name": "Google2Csv.ipynb",
   "provenance": [],
   "toc_visible": true
  },
  "kernelspec": {
   "display_name": "Python 3",
   "language": "python",
   "name": "python3"
  },
  "language_info": {
   "codemirror_mode": {
    "name": "ipython",
    "version": 3
   },
   "file_extension": ".py",
   "mimetype": "text/x-python",
   "name": "python",
   "nbconvert_exporter": "python",
   "pygments_lexer": "ipython3",
   "version": "3.7.6"
  }
 },
 "nbformat": 4,
 "nbformat_minor": 1
}
