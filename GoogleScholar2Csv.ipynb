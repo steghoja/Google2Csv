{
 "cells": [
  {
   "cell_type": "markdown",
   "metadata": {
    "colab_type": "text",
    "id": "view-in-github"
   },
   "source": [
    "<a href=\"https://colab.research.google.com/github/steghoja/Google2Csv/blob/master/Google2Csv.ipynb\" target=\"_parent\"><img src=\"https://colab.research.google.com/assets/colab-badge.svg\" alt=\"Open In Colab\"/></a>"
   ]
  },
  {
   "cell_type": "markdown",
   "metadata": {
    "colab_type": "text",
    "id": "3w-fyktSoKxu"
   },
   "source": [
    "##GoogleScraper"
   ]
  },
  {
   "cell_type": "code",
   "execution_count": 1,
   "metadata": {
    "colab": {
     "base_uri": "https://localhost:8080/",
     "height": 34
    },
    "colab_type": "code",
    "id": "zCQtYO-Po_kf",
    "outputId": "2d2221b1-b425-4723-adbc-7aa415ecf254"
   },
   "outputs": [],
   "source": [
    "from bs4 import BeautifulSoup\n",
    "import requests\n",
    "import pandas as pd"
   ]
  },
  {
   "cell_type": "code",
   "execution_count": 2,
   "metadata": {
    "colab": {},
    "colab_type": "code",
    "id": "6JZjJa-joXEh"
   },
   "outputs": [],
   "source": [
    "def simpleGoogleSearch(query, start):\n",
    "  results = []\n",
    "\n",
    "  query = query.replace(' ', '+')\n",
    "  URL = f\"https://scholar.google.com/scholar?q={query}&start={start}&hl=en\"\n",
    "\n",
    "  # desktop user-agent\n",
    "  USER_AGENT = \"Mozilla/5.0 (Macintosh; Intel Mac OS X 10.16; rv:84.0) Gecko/20100101 Firefox/84.0\"\n",
    "  ACCEPT = \"text/html,application/xhtml+xml,application/xml;q=0.9,image/webp,*/*;q=0.8\"\n",
    "  ACCEPT_ENCODING = \"gzip, deflate, br\"\n",
    "  \n",
    "  headers = {\"user-agent\" : USER_AGENT,\n",
    "             \"accept\" : ACCEPT,\n",
    "             \"accept-encoding\" : ACCEPT_ENCODING\n",
    "            }\n",
    "  resp = requests.get(URL, headers=headers)\n",
    "\n",
    "  if resp.status_code == 200:\n",
    "    soup = BeautifulSoup(resp.content, \"html.parser\")\n",
    "\n",
    "    for g in soup.find_all('div', class_='gs_ri'):\n",
    "      anchors = g.find_all('a')\n",
    "\n",
    "      if anchors:\n",
    "        link  = anchors[0]['href']\n",
    "        title = g.find('h3').text\n",
    "        description = g.find('div', class_='gs_rs').text\n",
    "        authors = g.find('div', class_='gs_a').text\n",
    "        item  = {\"title\": title, \"authors\": authors, \"description\": description, \"link\": link}\n",
    "        results.append(item)\n",
    "\n",
    "  return results"
   ]
  },
  {
   "cell_type": "code",
   "execution_count": 3,
   "metadata": {
    "colab": {},
    "colab_type": "code",
    "id": "kBCwCEcGob2M"
   },
   "outputs": [],
   "source": [
    "def googleToPandas(googleQuery):\n",
    "  resultsCounter  = 0\n",
    "  resultsList     = []\n",
    "\n",
    "  while True:\n",
    "    pageResults = simpleGoogleSearch(googleQuery, resultsCounter)\n",
    "    \n",
    "    if not pageResults: break\n",
    "    else: \n",
    "      resultsList.extend(pageResults)\n",
    "      resultsCounter = resultsCounter + 10\n",
    "\n",
    "  return pd.DataFrame(resultsList)"
   ]
  },
  {
   "cell_type": "code",
   "execution_count": 4,
   "metadata": {
    "colab": {},
    "colab_type": "code",
    "id": "SoUutC4DojV7"
   },
   "outputs": [],
   "source": [
    "googleSearchQuery = \"traceability information model\" #@param {type:\"string\"}"
   ]
  },
  {
   "cell_type": "code",
   "execution_count": 5,
   "metadata": {
    "colab": {
     "base_uri": "https://localhost:8080/",
     "height": 419
    },
    "colab_type": "code",
    "id": "r44AZDaBpjGO",
    "outputId": "d7a82dce-8463-45fa-c088-8cac5dba3fa5"
   },
   "outputs": [
    {
     "data": {
      "text/html": [
       "<div>\n",
       "<style scoped>\n",
       "    .dataframe tbody tr th:only-of-type {\n",
       "        vertical-align: middle;\n",
       "    }\n",
       "\n",
       "    .dataframe tbody tr th {\n",
       "        vertical-align: top;\n",
       "    }\n",
       "\n",
       "    .dataframe thead th {\n",
       "        text-align: right;\n",
       "    }\n",
       "</style>\n",
       "<table border=\"1\" class=\"dataframe\">\n",
       "  <thead>\n",
       "    <tr style=\"text-align: right;\">\n",
       "      <th></th>\n",
       "    </tr>\n",
       "  </thead>\n",
       "  <tbody>\n",
       "  </tbody>\n",
       "</table>\n",
       "</div>"
      ],
      "text/plain": [
       "Empty DataFrame\n",
       "Columns: []\n",
       "Index: []"
      ]
     },
     "execution_count": 5,
     "metadata": {},
     "output_type": "execute_result"
    }
   ],
   "source": [
    "results = googleToPandas(googleSearchQuery)\n",
    "results"
   ]
  },
  {
   "cell_type": "code",
   "execution_count": 6,
   "metadata": {
    "colab": {},
    "colab_type": "code",
    "id": "y-wbjJuYqnOT"
   },
   "outputs": [],
   "source": [
    "results.to_csv('GoogleResults.csv', index=False)\n",
    "#results.to_excel('GoogleResults.xlsx', index=False)\n",
    "#results.to_json('GoogleResults.jsonl', orient='records', lines=True)"
   ]
  }
 ],
 "metadata": {
  "colab": {
   "authorship_tag": "ABX9TyN/EIlGRKp/NPVnoqRZtLV/",
   "include_colab_link": true,
   "name": "Google2Csv.ipynb",
   "provenance": [],
   "toc_visible": true
  },
  "kernelspec": {
   "display_name": "Python 3",
   "language": "python",
   "name": "python3"
  },
  "language_info": {
   "codemirror_mode": {
    "name": "ipython",
    "version": 3
   },
   "file_extension": ".py",
   "mimetype": "text/x-python",
   "name": "python",
   "nbconvert_exporter": "python",
   "pygments_lexer": "ipython3",
   "version": "3.7.6"
  }
 },
 "nbformat": 4,
 "nbformat_minor": 1
}
