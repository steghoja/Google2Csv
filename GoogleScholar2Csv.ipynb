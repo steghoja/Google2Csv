{
 "cells": [
  {
   "cell_type": "markdown",
   "metadata": {
    "colab_type": "text",
    "id": "view-in-github"
   },
   "source": [
    "<a href=\"https://colab.research.google.com/github/steghoja/Google2Csv/blob/feature/google-scholar/GoogleScholar2Csv.ipynb\" target=\"_parent\"><img src=\"https://colab.research.google.com/assets/colab-badge.svg\" alt=\"Open In Colab\"/></a>"
   ]
  },
  {
   "cell_type": "markdown",
   "metadata": {
    "colab_type": "text",
    "id": "3w-fyktSoKxu"
   },
   "source": [
    "##GoogleScraper"
   ]
  },
  {
   "cell_type": "code",
   "execution_count": 1,
   "metadata": {
    "colab": {
     "base_uri": "https://localhost:8080/",
     "height": 34
    },
    "colab_type": "code",
    "id": "zCQtYO-Po_kf",
    "outputId": "2d2221b1-b425-4723-adbc-7aa415ecf254"
   },
   "outputs": [],
   "source": [
    "from bs4 import BeautifulSoup\n",
    "import requests\n",
    "import pandas as pd"
   ]
  },
  {
   "cell_type": "code",
   "execution_count": 2,
   "metadata": {
    "colab": {},
    "colab_type": "code",
    "id": "6JZjJa-joXEh"
   },
   "outputs": [],
   "source": [
    "def simpleGoogleSearch(query, start):\n",
    "  results = []\n",
    "\n",
    "  query = query.replace(' ', '+')\n",
    "  URL = f\"https://scholar.google.com/scholar?q={query}&start={start}\"\n",
    "\n",
    "  # desktop user-agent\n",
    "  USER_AGENT = \"Mozilla/5.0 (Macintosh; Intel Mac OS X 10.16; rv:84.0) Gecko/20100101 Firefox/84.0\"\n",
    "  ACCEPT = \"text/html,application/xhtml+xml,application/xml;q=0.9,image/webp,*/*;q=0.8\"\n",
    "  ACCEPT_ENCODING = \"gzip, deflate, br\"\n",
    "  \n",
    "  headers = {\"user-agent\" : USER_AGENT,\n",
    "             \"accept\" : ACCEPT,\n",
    "             \"accept-encoding\" : ACCEPT_ENCODING\n",
    "            }\n",
    "  resp = requests.get(URL, headers=headers)\n",
    "  breakpoint()\n",
    "\n",
    "  if resp.status_code == 200:\n",
    "    soup = BeautifulSoup(resp.content, \"html.parser\")\n",
    "\n",
    "    for g in soup.find_all('div', class_='gs_rt'):\n",
    "      anchors = g.find_all('a')\n",
    "\n",
    "      if anchors:\n",
    "        link  = anchors[0]['href']\n",
    "        title = g.find('h3').text\n",
    "        description = g.find('div', class_='gs_rs')\n",
    "        authors = description.find('div', class_='gs_a')\n",
    "        if date:\n",
    "          date = date.text[:-2]\n",
    "        item  = {\"title\": title, \"authors\": date, \"description\": description.text, \"link\": link}\n",
    "        results.append(item)\n",
    "\n",
    "  return results"
   ]
  },
  {
   "cell_type": "code",
   "execution_count": 3,
   "metadata": {
    "colab": {},
    "colab_type": "code",
    "id": "kBCwCEcGob2M"
   },
   "outputs": [],
   "source": [
    "def googleToPandas(googleQuery):\n",
    "  resultsCounter  = 0\n",
    "  resultsList     = []\n",
    "\n",
    "  while True:\n",
    "    pageResults = simpleGoogleSearch(googleQuery, resultsCounter)\n",
    "    \n",
    "    if not pageResults: break\n",
    "    else: \n",
    "      resultsList.extend(pageResults)\n",
    "      resultsCounter = resultsCounter + 10\n",
    "\n",
    "  return pd.DataFrame(resultsList)"
   ]
  },
  {
   "cell_type": "code",
   "execution_count": 4,
   "metadata": {
    "colab": {},
    "colab_type": "code",
    "id": "SoUutC4DojV7"
   },
   "outputs": [],
   "source": [
    "googleSearchQuery = \"traceability information model\" #@param {type:\"string\"}"
   ]
  },
  {
   "cell_type": "code",
   "execution_count": null,
   "metadata": {
    "colab": {
     "base_uri": "https://localhost:8080/",
     "height": 419
    },
    "colab_type": "code",
    "id": "r44AZDaBpjGO",
    "outputId": "d7a82dce-8463-45fa-c088-8cac5dba3fa5"
   },
   "outputs": [
    {
     "name": "stdout",
     "output_type": "stream",
     "text": [
      "> \u001b[0;32m<ipython-input-2-64925c1a2f48>\u001b[0m(19)\u001b[0;36msimpleGoogleSearch\u001b[0;34m()\u001b[0m\n",
      "\u001b[0;32m     17 \u001b[0;31m  \u001b[0mbreakpoint\u001b[0m\u001b[0;34m(\u001b[0m\u001b[0;34m)\u001b[0m\u001b[0;34m\u001b[0m\u001b[0;34m\u001b[0m\u001b[0m\n",
      "\u001b[0m\u001b[0;32m     18 \u001b[0;31m\u001b[0;34m\u001b[0m\u001b[0m\n",
      "\u001b[0m\u001b[0;32m---> 19 \u001b[0;31m  \u001b[0;32mif\u001b[0m \u001b[0mresp\u001b[0m\u001b[0;34m.\u001b[0m\u001b[0mstatus_code\u001b[0m \u001b[0;34m==\u001b[0m \u001b[0;36m200\u001b[0m\u001b[0;34m:\u001b[0m\u001b[0;34m\u001b[0m\u001b[0;34m\u001b[0m\u001b[0m\n",
      "\u001b[0m\u001b[0;32m     20 \u001b[0;31m    \u001b[0msoup\u001b[0m \u001b[0;34m=\u001b[0m \u001b[0mBeautifulSoup\u001b[0m\u001b[0;34m(\u001b[0m\u001b[0mresp\u001b[0m\u001b[0;34m.\u001b[0m\u001b[0mcontent\u001b[0m\u001b[0;34m,\u001b[0m \u001b[0;34m\"html.parser\"\u001b[0m\u001b[0;34m)\u001b[0m\u001b[0;34m\u001b[0m\u001b[0;34m\u001b[0m\u001b[0m\n",
      "\u001b[0m\u001b[0;32m     21 \u001b[0;31m\u001b[0;34m\u001b[0m\u001b[0m\n",
      "\u001b[0m\n",
      "ipdb> resp\n",
      "<Response [429]>\n"
     ]
    }
   ],
   "source": [
    "results = googleToPandas(googleSearchQuery)\n",
    "results"
   ]
  },
  {
   "cell_type": "code",
   "execution_count": null,
   "metadata": {
    "colab": {},
    "colab_type": "code",
    "id": "y-wbjJuYqnOT"
   },
   "outputs": [],
   "source": [
    "results.to_csv('GoogleResults.csv', index=False)\n",
    "#results.to_excel('GoogleResults.xlsx', index=False)\n",
    "#results.to_json('GoogleResults.jsonl', orient='records', lines=True)"
   ]
  }
 ],
 "metadata": {
  "colab": {
   "authorship_tag": "ABX9TyN/EIlGRKp/NPVnoqRZtLV/",
   "include_colab_link": true,
   "name": "Google2Csv.ipynb",
   "provenance": [],
   "toc_visible": true
  },
  "kernelspec": {
   "display_name": "Python 3",
   "language": "python",
   "name": "python3"
  },
  "language_info": {
   "codemirror_mode": {
    "name": "ipython",
    "version": 3
   },
   "file_extension": ".py",
   "mimetype": "text/x-python",
   "name": "python",
   "nbconvert_exporter": "python",
   "pygments_lexer": "ipython3",
   "version": "3.7.6"
  }
 },
 "nbformat": 4,
 "nbformat_minor": 1
}
